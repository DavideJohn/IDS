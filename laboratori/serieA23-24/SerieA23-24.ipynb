{
 "cells": [
  {
   "cell_type": "markdown",
   "metadata": {},
   "source": [
    "# **Serie A 2023-2024: INTEGRAZIONE, PULIZIA E ANALISI SUI DATI**\n",
    "\n",
    "14-Marzo-2025"
   ]
  },
  {
   "cell_type": "markdown",
   "metadata": {},
   "source": [
    "Cercherò di visualizzare in modo più pulito tutte le tabelle: \n",
    "\n",
    "Iniziamo con Serie a_table_2023_2024"
   ]
  },
  {
   "cell_type": "code",
   "execution_count": null,
   "metadata": {},
   "outputs": [],
   "source": [
    "import pandas as pd\n",
    "import matplotlib.pyplot as plt\n",
    "import numpy as np "
   ]
  },
  {
   "cell_type": "markdown",
   "metadata": {},
   "source": [
    "### Carico i dati di Serie A_table-2023-24"
   ]
  },
  {
   "cell_type": "code",
   "execution_count": 3,
   "metadata": {},
   "outputs": [],
   "source": [
    "serieA_table = pd.read_csv('Serie A_table_2023_24.csv')"
   ]
  },
  {
   "cell_type": "markdown",
   "metadata": {},
   "source": [
    "Diamo un occhiata a come e composto il dataset"
   ]
  },
  {
   "cell_type": "code",
   "execution_count": 4,
   "metadata": {},
   "outputs": [
    {
     "name": "stdout",
     "output_type": "stream",
     "text": [
      "<class 'pandas.core.frame.DataFrame'>\n",
      "RangeIndex: 20 entries, 0 to 19\n",
      "Data columns (total 9 columns):\n",
      " #   Column       Non-Null Count  Dtype \n",
      "---  ------       --------------  ----- \n",
      " 0   idx          20 non-null     int64 \n",
      " 1   name         20 non-null     object\n",
      " 2   played       20 non-null     int64 \n",
      " 3   wins         20 non-null     int64 \n",
      " 4   draws        20 non-null     int64 \n",
      " 5   losses       20 non-null     int64 \n",
      " 6   scoresStr    20 non-null     object\n",
      " 7   goalConDiff  20 non-null     int64 \n",
      " 8   pts          20 non-null     int64 \n",
      "dtypes: int64(7), object(2)\n",
      "memory usage: 1.5+ KB\n"
     ]
    },
    {
     "data": {
      "text/html": [
       "<div>\n",
       "<style scoped>\n",
       "    .dataframe tbody tr th:only-of-type {\n",
       "        vertical-align: middle;\n",
       "    }\n",
       "\n",
       "    .dataframe tbody tr th {\n",
       "        vertical-align: top;\n",
       "    }\n",
       "\n",
       "    .dataframe thead th {\n",
       "        text-align: right;\n",
       "    }\n",
       "</style>\n",
       "<table border=\"1\" class=\"dataframe\">\n",
       "  <thead>\n",
       "    <tr style=\"text-align: right;\">\n",
       "      <th></th>\n",
       "      <th>idx</th>\n",
       "      <th>name</th>\n",
       "      <th>played</th>\n",
       "      <th>wins</th>\n",
       "      <th>draws</th>\n",
       "      <th>losses</th>\n",
       "      <th>scoresStr</th>\n",
       "      <th>goalConDiff</th>\n",
       "      <th>pts</th>\n",
       "    </tr>\n",
       "  </thead>\n",
       "  <tbody>\n",
       "    <tr>\n",
       "      <th>0</th>\n",
       "      <td>1</td>\n",
       "      <td>Inter</td>\n",
       "      <td>38</td>\n",
       "      <td>29</td>\n",
       "      <td>7</td>\n",
       "      <td>2</td>\n",
       "      <td>89-22</td>\n",
       "      <td>67</td>\n",
       "      <td>94</td>\n",
       "    </tr>\n",
       "    <tr>\n",
       "      <th>1</th>\n",
       "      <td>2</td>\n",
       "      <td>Milan</td>\n",
       "      <td>38</td>\n",
       "      <td>22</td>\n",
       "      <td>9</td>\n",
       "      <td>7</td>\n",
       "      <td>76-49</td>\n",
       "      <td>27</td>\n",
       "      <td>75</td>\n",
       "    </tr>\n",
       "    <tr>\n",
       "      <th>2</th>\n",
       "      <td>3</td>\n",
       "      <td>Juventus</td>\n",
       "      <td>38</td>\n",
       "      <td>19</td>\n",
       "      <td>14</td>\n",
       "      <td>5</td>\n",
       "      <td>54-31</td>\n",
       "      <td>23</td>\n",
       "      <td>71</td>\n",
       "    </tr>\n",
       "    <tr>\n",
       "      <th>3</th>\n",
       "      <td>4</td>\n",
       "      <td>Atalanta</td>\n",
       "      <td>38</td>\n",
       "      <td>21</td>\n",
       "      <td>6</td>\n",
       "      <td>11</td>\n",
       "      <td>72-42</td>\n",
       "      <td>30</td>\n",
       "      <td>69</td>\n",
       "    </tr>\n",
       "    <tr>\n",
       "      <th>4</th>\n",
       "      <td>5</td>\n",
       "      <td>Bologna</td>\n",
       "      <td>38</td>\n",
       "      <td>18</td>\n",
       "      <td>14</td>\n",
       "      <td>6</td>\n",
       "      <td>54-32</td>\n",
       "      <td>22</td>\n",
       "      <td>68</td>\n",
       "    </tr>\n",
       "  </tbody>\n",
       "</table>\n",
       "</div>"
      ],
      "text/plain": [
       "   idx      name  played  wins  draws  losses scoresStr  goalConDiff  pts\n",
       "0    1     Inter      38    29      7       2     89-22           67   94\n",
       "1    2     Milan      38    22      9       7     76-49           27   75\n",
       "2    3  Juventus      38    19     14       5     54-31           23   71\n",
       "3    4  Atalanta      38    21      6      11     72-42           30   69\n",
       "4    5   Bologna      38    18     14       6     54-32           22   68"
      ]
     },
     "execution_count": 4,
     "metadata": {},
     "output_type": "execute_result"
    }
   ],
   "source": [
    "serieA_table.info() #gbfg\n",
    "serieA_table.head() "
   ]
  },
  {
   "cell_type": "markdown",
   "metadata": {},
   "source": [
    "Possiamo notare fin da subito che la tabella è organizzata bene: troviamo l'indice che mi indica quante squadre partecipano, il nome della squadra, le partite giocate, le vittorie,i pareggi,le sconfitte, i goal segnati e subiti nella stessa colonna, la differenza reti e i punti.\n",
    "\n",
    "\n",
    "Proviamo a creare due colonne differenti per i goal fatti e per i goal subiti, e eliminiamo scoresStr "
   ]
  },
  {
   "cell_type": "code",
   "execution_count": 5,
   "metadata": {},
   "outputs": [],
   "source": [
    "serieA_table[['goalSegnati', 'goalSubiti']] = serieA_table['scoresStr'].str.split('-', expand=True)\n",
    "#elimina la colonna scoresStr\n",
    "serieA_table.drop('scoresStr', axis=1, inplace=True)"
   ]
  },
  {
   "cell_type": "markdown",
   "metadata": {},
   "source": [
    "Adesso stampiamo quello che abbiamo fatto dando un ordine sulla stampa delle colonne"
   ]
  },
  {
   "cell_type": "code",
   "execution_count": 6,
   "metadata": {},
   "outputs": [
    {
     "name": "stdout",
     "output_type": "stream",
     "text": [
      "    idx           name  played  wins  draws  losses goalSegnati goalSubiti  \\\n",
      "0     1          Inter      38    29      7       2          89         22   \n",
      "1     2          Milan      38    22      9       7          76         49   \n",
      "2     3       Juventus      38    19     14       5          54         31   \n",
      "3     4       Atalanta      38    21      6      11          72         42   \n",
      "4     5        Bologna      38    18     14       6          54         32   \n",
      "5     6           Roma      38    18      9      11          65         46   \n",
      "6     7          Lazio      38    18      7      13          49         39   \n",
      "7     8     Fiorentina      38    17      9      12          61         46   \n",
      "8     9         Torino      38    13     14      11          36         36   \n",
      "9    10         Napoli      38    13     14      11          55         48   \n",
      "10   11          Genoa      38    12     13      13          45         45   \n",
      "11   12          Monza      38    11     12      15          39         51   \n",
      "12   13  Hellas Verona      38     9     11      18          38         51   \n",
      "13   14          Lecce      38     8     14      16          32         54   \n",
      "14   15        Udinese      38     6     19      13          37         53   \n",
      "15   16       Cagliari      38     8     12      18          42         68   \n",
      "16   17         Empoli      38     9      9      20          29         54   \n",
      "17   18      Frosinone      38     8     11      19          44         69   \n",
      "18   19       Sassuolo      38     7      9      22          43         75   \n",
      "19   20    Salernitana      38     2     11      25          32         81   \n",
      "\n",
      "    goalConDiff  pts  \n",
      "0            67   94  \n",
      "1            27   75  \n",
      "2            23   71  \n",
      "3            30   69  \n",
      "4            22   68  \n",
      "5            19   63  \n",
      "6            10   61  \n",
      "7            15   60  \n",
      "8             0   53  \n",
      "9             7   53  \n",
      "10            0   49  \n",
      "11          -12   45  \n",
      "12          -13   38  \n",
      "13          -22   38  \n",
      "14          -16   37  \n",
      "15          -26   36  \n",
      "16          -25   36  \n",
      "17          -25   35  \n",
      "18          -32   30  \n",
      "19          -49   17  \n"
     ]
    }
   ],
   "source": [
    "serieA_table = serieA_table[['idx', 'name', 'played', 'wins', 'draws', 'losses', 'goalSegnati', 'goalSubiti', 'goalConDiff', 'pts']]\n",
    "print(serieA_table)"
   ]
  },
  {
   "cell_type": "markdown",
   "metadata": {},
   "source": [
    "Converto da str a int le tabelle goalSegnati e goalSubiti"
   ]
  },
  {
   "cell_type": "code",
   "execution_count": 7,
   "metadata": {},
   "outputs": [],
   "source": [
    "serieA_table['goalSegnati'] = serieA_table['goalSegnati'].astype(int)\n",
    "serieA_table['goalSubiti'] = serieA_table['goalSubiti'].astype(int)"
   ]
  },
  {
   "cell_type": "markdown",
   "metadata": {},
   "source": [
    "Adesso che abiamo la tabella più pulita, possiamo eseguire delle operazioni statistiche sulle colonne\n",
    "\n",
    "\n",
    "Calcoliamo alcune statistiche di base, sulle colonne goalSegnati e goalSubiti:\n",
    "1. Media;\n",
    "2. Deviazione standard;\n",
    "3. Varianza;\n",
    "4. Moda;\n",
    "5. Mediana."
   ]
  },
  {
   "cell_type": "code",
   "execution_count": 16,
   "metadata": {},
   "outputs": [
    {
     "name": "stdout",
     "output_type": "stream",
     "text": [
      "Media di goalSegnati e di goalSubiti:\n",
      "49.6\n",
      "49.6\n",
      "\n",
      "Varianza di goalSegnati e di goalSubiti:\n",
      "261.8315789473684\n",
      "222.2526315789474\n",
      "\n",
      "Deviazione di goalSegnati e di goalSubiti:\n",
      "16.181210676193807\n",
      "14.90813977593943\n",
      "\n",
      "Moda di goalSegnati e di goalSubiti:\n",
      "0    32\n",
      "1    54\n",
      "Name: goalSegnati, dtype: int64\n",
      "0    46\n",
      "1    51\n",
      "2    54\n",
      "Name: goalSubiti, dtype: int64\n",
      "\n",
      "Mediana di goalSegnati e di goalSubiti:\n",
      "44.5\n",
      "48.5\n",
      "\n"
     ]
    }
   ],
   "source": [
    "#statistiche richieste per goalSegnati e goalSubiti\n",
    "#media\n",
    "print(\"Media di goalSegnati e di goalSubiti:\")\n",
    "print(serieA_table['goalSegnati'].mean())\n",
    "print(serieA_table['goalSubiti'].mean())\n",
    "print()\n",
    "\n",
    "#varianza\n",
    "print(\"Varianza di goalSegnati e di goalSubiti:\")\n",
    "print(serieA_table['goalSegnati'].var())\n",
    "print(serieA_table['goalSubiti'].var())\n",
    "print()\n",
    "\n",
    "#deviazione standard\n",
    "print(\"Deviazione di goalSegnati e di goalSubiti:\")\n",
    "print(serieA_table['goalSegnati'].std())\n",
    "print(serieA_table['goalSubiti'].std())\n",
    "print()\n",
    "\n",
    "#moda\n",
    "print(\"Moda di goalSegnati e di goalSubiti:\")\n",
    "print(serieA_table['goalSegnati'].mode())\n",
    "print(serieA_table['goalSubiti'].mode())\n",
    "print()\n",
    "\n",
    "#mediana\n",
    "print(\"Mediana di goalSegnati e di goalSubiti:\")\n",
    "print(serieA_table['goalSegnati'].median()) \n",
    "print(serieA_table['goalSubiti'].median())\n",
    "print()\n"
   ]
  },
  {
   "cell_type": "markdown",
   "metadata": {},
   "source": [
    "cerca i primi 7 valori max in goalConDiff con rispettivo name"
   ]
  },
  {
   "cell_type": "code",
   "execution_count": 17,
   "metadata": {},
   "outputs": [
    {
     "name": "stdout",
     "output_type": "stream",
     "text": [
      "I primi 7 valori massimi di goalConDiff:\n",
      "\n",
      "   idx        name  goalConDiff\n",
      "0    1       Inter           67\n",
      "3    4    Atalanta           30\n",
      "1    2       Milan           27\n",
      "2    3    Juventus           23\n",
      "4    5     Bologna           22\n",
      "5    6        Roma           19\n",
      "7    8  Fiorentina           15\n"
     ]
    }
   ],
   "source": [
    "print(\"I primi 7 valori massimi di goalConDiff:\")\n",
    "print()\n",
    "print(serieA_table.nlargest(7, 'goalConDiff')[['idx', 'name', 'goalConDiff']])"
   ]
  },
  {
   "cell_type": "markdown",
   "metadata": {},
   "source": [
    "### CASA VS TRASFERTA"
   ]
  },
  {
   "cell_type": "markdown",
   "metadata": {},
   "source": [
    "Integriamo le tabelle punti casa e punti trasferta e calocliamo la differenza punti casa vs trasferta per vedere quale squadra ha fatto meglio in casa e in trasferta\n"
   ]
  },
  {
   "cell_type": "code",
   "execution_count": 18,
   "metadata": {},
   "outputs": [],
   "source": [
    "home = pd.read_csv('Serie A_table_home_2023_24.csv')\n",
    "away = pd.read_csv('Serie A_table_away_2023_24.csv')"
   ]
  },
  {
   "cell_type": "code",
   "execution_count": 19,
   "metadata": {},
   "outputs": [
    {
     "name": "stdout",
     "output_type": "stream",
     "text": [
      "   idx      name  played  wins  draws  losses scoresStr  goalConDiff  pts\n",
      "0    1     Inter      19    14      4       1     44-11           33   46\n",
      "1    2  Atalanta      19    13      2       4     42-16           26   41\n",
      "2    3   Bologna      19    12      5       2     33-12           21   41\n",
      "3    4     Milan      19    12      4       3     38-17           21   40\n",
      "4    5      Roma      19    12      4       3     38-19           19   40\n",
      "\n",
      "   idx      name  played  wins  draws  losses scoresStr  goalConDiff  pts\n",
      "0    1     Inter      19    15      3       1     45-11           34   48\n",
      "1    2     Milan      19    10      5       4     38-32            6   35\n",
      "2    3  Juventus      19     8      7       4     28-20            8   31\n",
      "3    4    Napoli      19     7      7       5     31-21           10   28\n",
      "4    5  Atalanta      19     8      4       7     30-26            4   28\n"
     ]
    }
   ],
   "source": [
    "print(home.head())\n",
    "print()\n",
    "print(away.head())"
   ]
  },
  {
   "cell_type": "markdown",
   "metadata": {},
   "source": [
    "Unisco le tabelle, calcolo i punti, faccio la diff tra casa e trasferta e ordino. poi visualizzo graficamente"
   ]
  },
  {
   "cell_type": "code",
   "execution_count": 24,
   "metadata": {},
   "outputs": [
    {
     "data": {
      "image/png": "[encoded data removed]",
      "text/plain": [
       "<Figure size 1400x700 with 1 Axes>"
      ]
     },
     "metadata": {},
     "output_type": "display_data"
    },
    {
     "data": {
      "text/html": [
       "<div>\n",
       "<style scoped>\n",
       "    .dataframe tbody tr th:only-of-type {\n",
       "        vertical-align: middle;\n",
       "    }\n",
       "\n",
       "    .dataframe tbody tr th {\n",
       "        vertical-align: top;\n",
       "    }\n",
       "\n",
       "    .dataframe thead th {\n",
       "        text-align: right;\n",
       "    }\n",
       "</style>\n",
       "<table border=\"1\" class=\"dataframe\">\n",
       "  <thead>\n",
       "    <tr style=\"text-align: right;\">\n",
       "      <th></th>\n",
       "      <th>name</th>\n",
       "      <th>points_home</th>\n",
       "      <th>points_away</th>\n",
       "      <th>points_diff</th>\n",
       "    </tr>\n",
       "  </thead>\n",
       "  <tbody>\n",
       "    <tr>\n",
       "      <th>4</th>\n",
       "      <td>Roma</td>\n",
       "      <td>40</td>\n",
       "      <td>23</td>\n",
       "      <td>17</td>\n",
       "    </tr>\n",
       "    <tr>\n",
       "      <th>12</th>\n",
       "      <td>Frosinone</td>\n",
       "      <td>25</td>\n",
       "      <td>10</td>\n",
       "      <td>15</td>\n",
       "    </tr>\n",
       "    <tr>\n",
       "      <th>2</th>\n",
       "      <td>Bologna</td>\n",
       "      <td>41</td>\n",
       "      <td>27</td>\n",
       "      <td>14</td>\n",
       "    </tr>\n",
       "    <tr>\n",
       "      <th>11</th>\n",
       "      <td>Cagliari</td>\n",
       "      <td>25</td>\n",
       "      <td>11</td>\n",
       "      <td>14</td>\n",
       "    </tr>\n",
       "    <tr>\n",
       "      <th>8</th>\n",
       "      <td>Torino</td>\n",
       "      <td>33</td>\n",
       "      <td>20</td>\n",
       "      <td>13</td>\n",
       "    </tr>\n",
       "    <tr>\n",
       "      <th>1</th>\n",
       "      <td>Atalanta</td>\n",
       "      <td>41</td>\n",
       "      <td>28</td>\n",
       "      <td>13</td>\n",
       "    </tr>\n",
       "    <tr>\n",
       "      <th>9</th>\n",
       "      <td>Genoa</td>\n",
       "      <td>30</td>\n",
       "      <td>19</td>\n",
       "      <td>11</td>\n",
       "    </tr>\n",
       "    <tr>\n",
       "      <th>14</th>\n",
       "      <td>Hellas Verona</td>\n",
       "      <td>24</td>\n",
       "      <td>14</td>\n",
       "      <td>10</td>\n",
       "    </tr>\n",
       "    <tr>\n",
       "      <th>6</th>\n",
       "      <td>Fiorentina</td>\n",
       "      <td>35</td>\n",
       "      <td>25</td>\n",
       "      <td>10</td>\n",
       "    </tr>\n",
       "    <tr>\n",
       "      <th>17</th>\n",
       "      <td>Sassuolo</td>\n",
       "      <td>20</td>\n",
       "      <td>10</td>\n",
       "      <td>10</td>\n",
       "    </tr>\n",
       "    <tr>\n",
       "      <th>15</th>\n",
       "      <td>Lecce</td>\n",
       "      <td>24</td>\n",
       "      <td>14</td>\n",
       "      <td>10</td>\n",
       "    </tr>\n",
       "    <tr>\n",
       "      <th>5</th>\n",
       "      <td>Juventus</td>\n",
       "      <td>40</td>\n",
       "      <td>31</td>\n",
       "      <td>9</td>\n",
       "    </tr>\n",
       "    <tr>\n",
       "      <th>7</th>\n",
       "      <td>Lazio</td>\n",
       "      <td>34</td>\n",
       "      <td>27</td>\n",
       "      <td>7</td>\n",
       "    </tr>\n",
       "    <tr>\n",
       "      <th>3</th>\n",
       "      <td>Milan</td>\n",
       "      <td>40</td>\n",
       "      <td>35</td>\n",
       "      <td>5</td>\n",
       "    </tr>\n",
       "    <tr>\n",
       "      <th>16</th>\n",
       "      <td>Empoli</td>\n",
       "      <td>20</td>\n",
       "      <td>16</td>\n",
       "      <td>4</td>\n",
       "    </tr>\n",
       "    <tr>\n",
       "      <th>13</th>\n",
       "      <td>Monza</td>\n",
       "      <td>24</td>\n",
       "      <td>21</td>\n",
       "      <td>3</td>\n",
       "    </tr>\n",
       "    <tr>\n",
       "      <th>19</th>\n",
       "      <td>Salernitana</td>\n",
       "      <td>8</td>\n",
       "      <td>9</td>\n",
       "      <td>-1</td>\n",
       "    </tr>\n",
       "    <tr>\n",
       "      <th>0</th>\n",
       "      <td>Inter</td>\n",
       "      <td>46</td>\n",
       "      <td>48</td>\n",
       "      <td>-2</td>\n",
       "    </tr>\n",
       "    <tr>\n",
       "      <th>10</th>\n",
       "      <td>Napoli</td>\n",
       "      <td>25</td>\n",
       "      <td>28</td>\n",
       "      <td>-3</td>\n",
       "    </tr>\n",
       "    <tr>\n",
       "      <th>18</th>\n",
       "      <td>Udinese</td>\n",
       "      <td>14</td>\n",
       "      <td>23</td>\n",
       "      <td>-9</td>\n",
       "    </tr>\n",
       "  </tbody>\n",
       "</table>\n",
       "</div>"
      ],
      "text/plain": [
       "             name  points_home  points_away  points_diff\n",
       "4            Roma           40           23           17\n",
       "12      Frosinone           25           10           15\n",
       "2         Bologna           41           27           14\n",
       "11       Cagliari           25           11           14\n",
       "8          Torino           33           20           13\n",
       "1        Atalanta           41           28           13\n",
       "9           Genoa           30           19           11\n",
       "14  Hellas Verona           24           14           10\n",
       "6      Fiorentina           35           25           10\n",
       "17       Sassuolo           20           10           10\n",
       "15          Lecce           24           14           10\n",
       "5        Juventus           40           31            9\n",
       "7           Lazio           34           27            7\n",
       "3           Milan           40           35            5\n",
       "16         Empoli           20           16            4\n",
       "13          Monza           24           21            3\n",
       "19    Salernitana            8            9           -1\n",
       "0           Inter           46           48           -2\n",
       "10         Napoli           25           28           -3\n",
       "18        Udinese           14           23           -9"
      ]
     },
     "execution_count": 24,
     "metadata": {},
     "output_type": "execute_result"
    }
   ],
   "source": [
    "# Unione dei dati per confronto\n",
    "home_vs_away = pd.merge(\n",
    "    home[['idx' ,'name','played','wins','draws','losses','scoresStr','goalConDiff','pts']],\n",
    "    away[['idx' ,'name','played','wins','draws','losses','scoresStr','goalConDiff','pts']],\n",
    "    on='name',\n",
    "    suffixes=('_home', '_away')\n",
    ")\n",
    "\n",
    "# Calcolo punti casa/trasferta (3 punti vittoria, 1 punto pareggio)\n",
    "home_vs_away['points_home'] = home_vs_away['wins_home'] * 3 + home_vs_away['draws_home']\n",
    "home_vs_away['points_away'] = home_vs_away['wins_away'] * 3 + home_vs_away['draws_away']\n",
    "\n",
    "# Calcolo differenza punti\n",
    "home_vs_away['points_diff'] = home_vs_away['points_home'] - home_vs_away['points_away']\n",
    "\n",
    "# Ordinamento per chi ha più differenza casa/trasferta\n",
    "home_vs_away_sorted = home_vs_away.sort_values('points_diff', ascending=False)\n",
    "\n",
    "# Numero squadre\n",
    "N = len(home_vs_away_sorted)\n",
    "ind = np.arange(N)  # posizione X\n",
    "width = 0.35  # larghezza barre\n",
    "\n",
    "plt.figure(figsize=(14, 7))\n",
    "plt.bar(ind, home_vs_away_sorted['points_home'], width, label='Casa')\n",
    "plt.bar(ind + width, home_vs_away_sorted['points_away'], width, label='Trasferta')\n",
    "\n",
    "plt.ylabel('Punti')\n",
    "plt.title('Rendimento Casa vs Trasferta - Serie A 23/24')\n",
    "plt.xticks(ind + width / 2, home_vs_away_sorted['name'], rotation=90)\n",
    "plt.legend()\n",
    "\n",
    "plt.tight_layout()\n",
    "plt.show()\n",
    "\n",
    "# Mostra tabella riassuntiva\n",
    "home_vs_away_sorted[['name', 'points_home', 'points_away', 'points_diff']]\n"
   ]
  },
  {
   "cell_type": "markdown",
   "metadata": {},
   "source": [
    "Dai dati acquisiti si può intuire facilmente come Udinese,Napoli,Inter e Salernitanana(anche se di poco) sono riuscite a fare meglio in terre nemiche che a casa propria, invece per quanto riguarda Roma,Frosinone,Bologna,Cagliari,Torino e Atalanta si sono aggiudicate il maggior numero di punti a casa loro."
   ]
  },
  {
   "cell_type": "markdown",
   "metadata": {},
   "source": [
    "### Classifica reale vs Expected Goals (xG)"
   ]
  },
  {
   "cell_type": "code",
   "execution_count": 28,
   "metadata": {},
   "outputs": [],
   "source": [
    "import pandas as pd\n",
    "import matplotlib.pyplot as plt"
   ]
  },
  {
   "cell_type": "markdown",
   "metadata": {},
   "source": [
    "Carichiamo i dati di Seriea_table e xg_goals"
   ]
  },
  {
   "cell_type": "code",
   "execution_count": 25,
   "metadata": {},
   "outputs": [],
   "source": [
    "sa = pd.read_csv('Serie A_table_2023_24.csv')\n",
    "xg = pd.read_csv('Serie A_table_xg_2023_24.csv')\n"
   ]
  },
  {
   "cell_type": "markdown",
   "metadata": {},
   "source": [
    "Uniamo calcoliamo la differenza punti e ordiniamo"
   ]
  },
  {
   "cell_type": "code",
   "execution_count": 26,
   "metadata": {},
   "outputs": [],
   "source": [
    "merged = pd.merge(sa[['name', 'pts']], xg[['name', 'xPoints']], on='name')\n",
    "# Calcolo differenza punti reali - punti attesi\n",
    "merged['diff'] = merged['pts'] - merged['xPoints']\n",
    "\n",
    "# Ordinamento per chi over/underperforma di più\n",
    "merged_sorted = merged.sort_values('diff', ascending=False)"
   ]
  },
  {
   "cell_type": "markdown",
   "metadata": {},
   "source": [
    "visualizziamo graficamente il tutto\n"
   ]
  },
  {
   "cell_type": "code",
   "execution_count": 27,
   "metadata": {},
   "outputs": [
    {
     "data": {
      "image/png": "[encoded data removed]",
      "text/plain": [
       "<Figure size 1400x700 with 1 Axes>"
      ]
     },
     "metadata": {},
     "output_type": "display_data"
    },
    {
     "name": "stdout",
     "output_type": "stream",
     "text": [
      "             name  pts    xPoints       diff\n",
      "0           Inter   94  81.770904  12.229096\n",
      "1           Milan   75  66.109611   8.890389\n",
      "4         Bologna   68  59.749251   8.250749\n",
      "3        Atalanta   69  63.097566   5.902434\n",
      "6           Lazio   61  55.577535   5.422465\n",
      "11          Monza   45  40.556915   4.443085\n",
      "7      Fiorentina   60  56.317305   3.682695\n",
      "10          Genoa   49  45.626036   3.373964\n",
      "5            Roma   63  59.841562   3.158438\n",
      "2        Juventus   71  70.235403   0.764597\n",
      "8          Torino   53  52.872503   0.127497\n",
      "16         Empoli   36  40.066971  -4.066971\n",
      "12  Hellas Verona   38  44.156123  -6.156123\n",
      "13          Lecce   38  44.322273  -6.322273\n",
      "19    Salernitana   17  23.963821  -6.963821\n",
      "15       Cagliari   36  43.601563  -7.601563\n",
      "17      Frosinone   35  44.089054  -9.089054\n",
      "18       Sassuolo   30  39.352546  -9.352546\n",
      "14        Udinese   37  48.323760 -11.323760\n",
      "9          Napoli   53  67.713537 -14.713537\n"
     ]
    }
   ],
   "source": [
    "plt.figure(figsize=(14, 7))\n",
    "bars = plt.bar(merged_sorted['name'], merged_sorted['diff'], color=['green' if x > 0 else 'red' for x in merged_sorted['diff']])\n",
    "\n",
    "plt.axhline(0, color='black', linestyle='--')\n",
    "plt.xticks(rotation=90)\n",
    "plt.ylabel('Differenza (Punti Reali - xPoints)')\n",
    "plt.title('Overperformance / Underperformance basata su Expected Goals (xG)')\n",
    "\n",
    "# Aggiungiamo le etichette sulle barre\n",
    "for bar in bars:\n",
    "    yval = bar.get_height()\n",
    "    plt.text(bar.get_x() + bar.get_width()/2, yval, round(yval,1), ha='center', va='bottom', fontsize=8)\n",
    "\n",
    "plt.tight_layout()\n",
    "plt.show()\n",
    "\n",
    "# Mostriamo anche la tabella per riferimento\n",
    "print(merged_sorted[['name', 'pts', 'xPoints', 'diff']])"
   ]
  },
  {
   "cell_type": "markdown",
   "metadata": {},
   "source": [
    "Da come possiamo notare dal grafico:\n",
    "\n",
    "Inter, Milan, Bologna → Squadre molto efficienti, probabilmente hanno avuto anche un po’ di fortuna/cinismo.\n",
    "Napoli, Udinese, Sassuolo → Squadre sfortunate o poco concrete davanti alla porta.\n",
    "\n",
    "In particolare, il Napoli ha ben 14 punti in meno rispetto a quanto ci si aspetterebbe dagli xG! Questo suggerisce che sta creando buone occasioni, ma non riesce a concretizzarle."
   ]
  }
 ],
 "metadata": {
  "kernelspec": {
   "display_name": "Python 3",
   "language": "python",
   "name": "python3"
  },
  "language_info": {
   "codemirror_mode": {
    "name": "ipython",
    "version": 3
   },
   "file_extension": ".py",
   "mimetype": "text/x-python",
   "name": "python",
   "nbconvert_exporter": "python",
   "pygments_lexer": "ipython3",
   "version": "3.13.2"
  }
 },
 "nbformat": 4,
 "nbformat_minor": 2
}
