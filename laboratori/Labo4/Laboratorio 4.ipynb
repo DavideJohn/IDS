{
  "cells": [
    {
      "cell_type": "markdown",
      "metadata": {
        "id": "Y4PCXcoARO_f"
      },
      "source": [
        "# LABORATORIO 4: Metodi predittivi\n",
        "\n",
        "a.a. 2024/2025, 03/04/2025\n"
      ]
    },
    {
      "cell_type": "code",
      "execution_count": 5,
      "metadata": {
        "id": "8RBBmMNQhql2"
      },
      "outputs": [],
      "source": [
        "import pandas as pd\n",
        "import matplotlib.pyplot as plt\n",
        "import numpy as np\n",
        "import scipy.stats as stats\n",
        "import sklearn"
      ]
    },
    {
      "cell_type": "markdown",
      "metadata": {
        "id": "G1R7cBbvzpt9"
      },
      "source": [
        "# Parte 1. Regressione Lineare"
      ]
    },
    {
      "cell_type": "markdown",
      "metadata": {
        "id": "DM8a4SdImrHm"
      },
      "source": [
        "Utilizziamo la tabella integrate_titles che abbiamo prodotto durante il primo laboratorio. Vi ricordo che abbiamo effettuato integrazione di due dataset provenienti da Disney+ e Netflix, contenenti informazioni circa film e serie tv rilasciate sulle due piattaforme di streaming. Il dataset integrato è stato pulito e risulta quindi pronto per ulteriori analisi.\n",
        "\n",
        "Importiamo il dataset:"
      ]
    },
    {
      "cell_type": "code",
      "execution_count": 6,
      "metadata": {
        "id": "PnExuBeH_YAz"
      },
      "outputs": [],
      "source": [
        "titles = pd.read_csv('integrate_titles_3.csv')"
      ]
    },
    {
      "cell_type": "markdown",
      "metadata": {
        "id": "xTJyzFFimxXp"
      },
      "source": [
        "visualizziamo il dataset"
      ]
    },
    {
      "cell_type": "code",
      "execution_count": 7,
      "metadata": {
        "id": "Y6tAnKq5mxn0"
      },
      "outputs": [
        {
          "name": "stdout",
          "output_type": "stream",
          "text": [
            "<class 'pandas.core.frame.DataFrame'>\n",
            "RangeIndex: 4170 entries, 0 to 4169\n",
            "Data columns (total 27 columns):\n",
            " #   Column                Non-Null Count  Dtype  \n",
            "---  ------                --------------  -----  \n",
            " 0   Unnamed: 0.2          4170 non-null   int64  \n",
            " 1   Unnamed: 0.1          4170 non-null   int64  \n",
            " 2   Unnamed: 0            4170 non-null   int64  \n",
            " 3   id                    4170 non-null   object \n",
            " 4   title                 4170 non-null   object \n",
            " 5   type                  4170 non-null   object \n",
            " 6   release_year          4170 non-null   int64  \n",
            " 7   age_certification     2593 non-null   object \n",
            " 8   runtime               4170 non-null   int64  \n",
            " 9   genres                4170 non-null   object \n",
            " 10  production_countries  4170 non-null   object \n",
            " 11  seasons               1588 non-null   float64\n",
            " 12  imdb_id               4170 non-null   object \n",
            " 13  imdb_score            4170 non-null   float64\n",
            " 14  imdb_votes            4165 non-null   float64\n",
            " 15  tmdb_popularity       4139 non-null   float64\n",
            " 16  tmdb_score            4068 non-null   float64\n",
            " 17  director              2634 non-null   object \n",
            " 18  country               3790 non-null   object \n",
            " 19  date_added            4169 non-null   object \n",
            " 20  rating                4168 non-null   object \n",
            " 21  duration              4169 non-null   object \n",
            " 22  year                  4169 non-null   float64\n",
            " 23  month                 4169 non-null   float64\n",
            " 24  day                   4169 non-null   float64\n",
            " 25  imdb_score_quant      4170 non-null   object \n",
            " 26  release_year_quant    4170 non-null   object \n",
            "dtypes: float64(8), int64(5), object(14)\n",
            "memory usage: 879.7+ KB\n"
          ]
        }
      ],
      "source": [
        "titles.info()"
      ]
    },
    {
      "cell_type": "markdown",
      "metadata": {
        "id": "3annwavjm6p6"
      },
      "source": [
        "Supponiamo di voler stimare una funzione che preveda l'imdb_score a partire dallo score tmdb. Prima di tutto, possiamo utilizzare una rappresentazione grafica per verificare se le due features siano correlate, e se sia quindi possibile utilizzare una di queste features per predire l'altra.\n"
      ]
    },
    {
      "cell_type": "code",
      "execution_count": 8,
      "metadata": {
        "id": "ftv9Xxn5nMhV"
      },
      "outputs": [
        {
          "data": {
            "text/plain": [
              "Text(0, 0.5, 'imdb_score')"
            ]
          },
          "execution_count": 8,
          "metadata": {},
          "output_type": "execute_result"
        },
        {
          "data": {
            "image/png": "[encoded data removed]",
            "text/plain": [
              "<Figure size 640x480 with 1 Axes>"
            ]
          },
          "metadata": {},
          "output_type": "display_data"
        }
      ],
      "source": [
        "plt.scatter(titles['tmdb_score'],titles['imdb_score'])\n",
        "plt.title('scores')\n",
        "plt.xlabel('tmdb_score')\n",
        "plt.ylabel('imdb_score')"
      ]
    },
    {
      "cell_type": "markdown",
      "metadata": {
        "id": "xmZDpNCwnpow"
      },
      "source": [
        "verifichiamo la correlazione utilizzando il coefficiente di correlazione di Pearson (r).\n",
        "\n",
        "Vi ricordo che r ha valori nell'intervallo [-1,1].  \n",
        "\n",
        "Inoltre:\n",
        "\n",
        "r in [0,0.3] debole correlazione;\n",
        "\n",
        "r in [0.3,0.7] moderata correlazione;\n",
        "\n",
        "r in [0.7,1] forte correlazione;\n",
        "\n",
        "i valori negativi del coefficiente di correlazione indicano una correlazione inversa, cioè all'aumentare di una caratteristica diminuisce l'altra e viceversa. Proviamo a calcolare la correlazione tra le colonne tmdb_score e imdb_score.\n"
      ]
    },
    {
      "cell_type": "code",
      "execution_count": 9,
      "metadata": {
        "id": "Hc7G46ZzoHkP"
      },
      "outputs": [
        {
          "name": "stdout",
          "output_type": "stream",
          "text": [
            "            tmdb_score  imdb_score\n",
            "tmdb_score    1.000000    0.591233\n",
            "imdb_score    0.591233    1.000000\n"
          ]
        }
      ],
      "source": [
        "r = titles[['tmdb_score','imdb_score']].corr()\n",
        "print(r)\n"
      ]
    },
    {
      "cell_type": "markdown",
      "metadata": {
        "id": "VrySKCy7oWFD"
      },
      "source": [
        "plottiamo in falsi colori"
      ]
    },
    {
      "cell_type": "code",
      "execution_count": 10,
      "metadata": {},
      "outputs": [
        {
          "data": {
            "text/plain": [
              "<matplotlib.image.AxesImage at 0x1239234d0>"
            ]
          },
          "execution_count": 10,
          "metadata": {},
          "output_type": "execute_result"
        },
        {
          "data": {
            "image/png": "[encoded data removed]",
            "text/plain": [
              "<Figure size 640x480 with 1 Axes>"
            ]
          },
          "metadata": {},
          "output_type": "display_data"
        }
      ],
      "source": [
        "plt.imshow(r)"
      ]
    },
    {
      "cell_type": "markdown",
      "metadata": {
        "id": "iokaYFoinMEK"
      },
      "source": [
        "Ora ci chiediamo, quale modello di machine learning possiamo utilizzare per stimare una funzione che preveda l'imdb_score a partire dallo score tmdb.\n",
        "\n",
        "Dobbiamo determinare una relazione tra predittori e una variabile di risposta (che possiamo considerare continua).\n",
        "\n",
        "Quindi cosa possiamo utilizzare?\n",
        "\n",
        "Ricordate che dobbiamo dividere il dataset a disposizione in due diversi gruppi:\n",
        "\n",
        "* Training Set -> porzione di dati che utilizziamo per il training del nostro modello di regressione lineare;\n",
        "\n",
        "* Validation Set -> porzione di dati che utilizziamo per valutare il nostro modello precedentemente allenato.\n",
        "\n",
        "Non esiste un unico modo per dividere il dataset in training e validation, normalmente, si utilizza un random split con una certa percentuale (per esempio 70/30 per training/test).\n",
        "\n",
        "\n",
        "Usiamo la libreria scikit-learn, lo schema che dovrete usare e' il seguente:\n",
        "\n",
        "1. Definire le caratteristiche da usare;\n",
        "2. Definire X e y;\n",
        "3. Dividere il dataset in training e validation;\n",
        "4. Istanziare un oggetto della classe LinearRegression;\n",
        "5. Allenare usando la funzione fit invocata sull'oggetto istanziato (passando il training set!);\n",
        "6. Visualizzare i coefficienti imparati: useremo gli attributi *intercept_=* e *coef_* sull'oggetto ottenuto come output della funzione fit.\n",
        "\n",
        "In scikit-learn esiste la funzione:\n",
        "\n",
        "    X_train, X_valid, y_train, y_valid = train_test_split(X, y)\n",
        "\n",
        "che effettua per noi lo splitting."
      ]
    },
    {
      "cell_type": "code",
      "execution_count": 13,
      "metadata": {
        "id": "8A5M06qWp7gK"
      },
      "outputs": [],
      "source": [
        "from sklearn.model_selection import train_test_split\n",
        "\n",
        "\n",
        "titles.dropna(subset=['tmdb_score','imdb_score'],inplace=True)\n",
        "features = ['tmdb_score']\n",
        "X = titles[features]\n",
        "y = titles['imdb_score']\n",
        "X_train, X_valid, y_train, y_valid = train_test_split(X, y,test_size=0.2)\n",
        "\n"
      ]
    },
    {
      "cell_type": "code",
      "execution_count": 14,
      "metadata": {},
      "outputs": [
        {
          "data": {
            "text/plain": [
              "(4068, 1)"
            ]
          },
          "execution_count": 14,
          "metadata": {},
          "output_type": "execute_result"
        }
      ],
      "source": [
        "X.shape"
      ]
    },
    {
      "cell_type": "markdown",
      "metadata": {
        "id": "DDO-IYAAp-D-"
      },
      "source": [
        "adesso implementiamo la regressione"
      ]
    },
    {
      "cell_type": "code",
      "execution_count": 15,
      "metadata": {
        "id": "iGFPhrJzp9jD"
      },
      "outputs": [
        {
          "data": {
            "text/plain": [
              "<matplotlib.collections.PathCollection at 0x1242eb610>"
            ]
          },
          "execution_count": 15,
          "metadata": {},
          "output_type": "execute_result"
        },
        {
          "data": {
            "image/png": "[encoded data removed]",
            "text/plain": [
              "<Figure size 640x480 with 1 Axes>"
            ]
          },
          "metadata": {},
          "output_type": "display_data"
        }
      ],
      "source": [
        "from sklearn.linear_model import LinearRegression\n",
        "\n",
        "regressor = LinearRegression()\n",
        "reg = regressor.fit(X_train,y_train)\n",
        "y_pred_train = reg.coef_*X_train + reg.intercept_\n",
        "plt.scatter(X_train,y_train)\n",
        "plt.scatter(X_train,y_pred_train)\n",
        "#codice qui"
      ]
    },
    {
      "cell_type": "markdown",
      "metadata": {
        "id": "BMHzoNKsryYU"
      },
      "source": [
        "Adesso possiamo usare il modello imparato, per effettuare predizioni sul validation set. E' sufficiente usare la funzione predict sull'oggetto restituito da fit, passando come argomento x_valid"
      ]
    },
    {
      "cell_type": "code",
      "execution_count": 18,
      "metadata": {
        "id": "eJJ_Z7xSrzfj"
      },
      "outputs": [
        {
          "data": {
            "text/plain": [
              "<matplotlib.collections.PathCollection at 0x124841f90>"
            ]
          },
          "execution_count": 18,
          "metadata": {},
          "output_type": "execute_result"
        },
        {
          "data": {
            "image/png": "[encoded data removed]",
            "text/plain": [
              "<Figure size 640x480 with 1 Axes>"
            ]
          },
          "metadata": {},
          "output_type": "display_data"
        }
      ],
      "source": [
        "y_pred = reg.predict(X_valid)\n",
        "y_hat = reg.predict(X_valid)\n",
        "plt.scatter(X_valid,y_hat)\n",
        "plt.scatter(X_valid,y_valid,c='r',alpha=0.2)"
      ]
    },
    {
      "cell_type": "markdown",
      "metadata": {
        "id": "WY0lMQqsr7Vv"
      },
      "source": [
        "Ora, come possiamo stimare la precisione della funzione che abbiamo imparato?\n",
        "\n",
        "Sappiamo che non esiste una soluzione perfetta, ma possiamo trovare la soluzione migliore possibile, con i dati a disposizione. Per trovarla, useremo stime degli errori.\n",
        "\n",
        "Abbiamo visto che ci sono tre metriche per valutare i modelli a regressione di machine learning:\n",
        "\n",
        "lo scarto medio assoluto (MAE - Mean Absolute Error);\n",
        "l’errore quadratico medio (MSE - Mean Squared Error);\n",
        "la radice dell’errore quadratico medio (RMSE - Root of Mean Squared Error).\n",
        "ESERCIZIO: scrivete una funzione che implementi ciascuna delle tre metriche sopra descritte."
      ]
    },
    {
      "cell_type": "code",
      "execution_count": 19,
      "metadata": {
        "id": "BgqWVd1jsBCJ"
      },
      "outputs": [],
      "source": [
        "def MAE(y_pred,y_true):\n",
        "\n",
        "     return 1/y_pred.shape[0]*np.abs((y_pred-y_true)).sum()\n",
        "\n",
        "def MSE(y_pred,y_true):\n",
        "\n",
        "     return 1/y_pred.shape[0]*((y_pred-y_true)**2).sum()\n",
        "\n",
        "def RMSE(y_pred,y_true):\n",
        "\n",
        "     return np.sqrt(1/y_pred.shape[0]*((y_pred-y_true)**2).sum())\n"
      ]
    },
    {
      "cell_type": "markdown",
      "metadata": {
        "id": "3B82RzOjsJvg"
      },
      "source": [
        "usate le tre funzioni appena definite, per calcolare le tre metriche sul modello di regressione lineare appena ottenuto (sul validation set)"
      ]
    },
    {
      "cell_type": "code",
      "execution_count": 20,
      "metadata": {
        "id": "Jlpx-AETsJ2z"
      },
      "outputs": [
        {
          "name": "stdout",
          "output_type": "stream",
          "text": [
            "0.6782936143069178\n",
            "0.869102079312855\n",
            "0.9322564450369089\n"
          ]
        }
      ],
      "source": [
        "#MAE\n",
        "print(MAE(y_pred,y_valid))\n",
        "\n",
        "\n",
        "#MSE\n",
        "print(MSE(y_pred,y_valid))\n",
        "\n",
        "\n",
        "#RMSE\n",
        "print(RMSE(y_pred,y_valid))\n"
      ]
    },
    {
      "cell_type": "markdown",
      "metadata": {
        "id": "8yiBg4ocsW7B"
      },
      "source": [
        "possiamo anche utilizzare le funzioni messe a disposizione da scikit-learn."
      ]
    },
    {
      "cell_type": "code",
      "execution_count": 21,
      "metadata": {
        "id": "ia_3zZSgsWcM"
      },
      "outputs": [
        {
          "name": "stdout",
          "output_type": "stream",
          "text": [
            "MAE: 0.6782936143069178\n",
            "MSE: 0.869102079312855\n",
            "RMSE: 0.9322564450369089\n"
          ]
        }
      ],
      "source": [
        "import sklearn.metrics as metrics\n",
        "print ('MAE:', metrics.mean_absolute_error(y_valid, y_pred))\n",
        "print ('MSE:', metrics.mean_squared_error(y_valid, y_pred))\n",
        "print ('RMSE:', np.sqrt(metrics.mean_squared_error(y_valid, y_pred)))"
      ]
    },
    {
      "cell_type": "markdown",
      "metadata": {
        "id": "Kr08jFpjslhP"
      },
      "source": [
        "Come faccio a sapere se questo risultato e' un buon risultato oppure no?\n",
        "\n",
        "Determiniamo il modello nullo.\n",
        "\n",
        "il modello nullo rappresenta in modo efficace il fatto di tirare a indovinare più e più volte il risultato atteso, e vedere l’efficacia del modello.\n",
        "\n",
        "Nella regressione, possiamo sostituire tutti i valori della feature imdb_score con la media sull'intero dataset."
      ]
    },
    {
      "cell_type": "code",
      "execution_count": 24,
      "metadata": {
        "id": "EGmXwSkAsl7t"
      },
      "outputs": [
        {
          "name": "stdout",
          "output_type": "stream",
          "text": [
            "1.1968458743810455\n"
          ]
        }
      ],
      "source": [
        "#calcolate lo score medio\n",
        "mean_imdb_score = y_train.mean()\n",
        "\n",
        "# create la nuova x con lo stesso numero di campioni del validation set originale, e con tutti i valori uguali al valore medio dello score appena calcolato\n",
        "null_model_y = np.ones(len(y_valid))*mean_imdb_score\n",
        "print(MSE(null_model_y,y_valid))\n",
        "\n",
        "#stampate gli errori\n"
      ]
    },
    {
      "cell_type": "markdown",
      "metadata": {
        "id": "_zwOwuF2tTxp"
      },
      "source": [
        "ESERCIZIO.\n",
        "\n",
        "* Adesso, utilizzate come test set la tabella amazon_titles.\n",
        "\n",
        "1. Pulite e preparate il dataset;\n",
        "\n",
        "2. Applicate il modello di regressione imparato;\n",
        "\n",
        "3. Sfruttate errori a dispozione e modello nullo per determinare se riusciamo a generalizzare bene verso questo set di dati."
      ]
    },
    {
      "cell_type": "code",
      "execution_count": null,
      "metadata": {
        "id": "60Z0_abhtogF"
      },
      "outputs": [],
      "source": [
        "#leggiamo e visualizziamo\n"
      ]
    },
    {
      "cell_type": "code",
      "execution_count": null,
      "metadata": {
        "id": "CzP_EDmqtyB7"
      },
      "outputs": [],
      "source": [
        "#verifichiamo elementi nulli ed eliminamo\n"
      ]
    },
    {
      "cell_type": "code",
      "execution_count": null,
      "metadata": {
        "id": "ey2wD5GNt67-"
      },
      "outputs": [],
      "source": [
        "#applichiamo il modello imparato\n",
        "\n",
        "#visualizziamo"
      ]
    },
    {
      "cell_type": "markdown",
      "metadata": {
        "id": "uAio9TnEvL-E"
      },
      "source": [
        "calcoliamo gli errori corrispondenti"
      ]
    },
    {
      "cell_type": "code",
      "execution_count": null,
      "metadata": {
        "id": "EFhSjTIPvNrg"
      },
      "outputs": [],
      "source": [
        "#codice qui, usate le funzioni scikit-learn"
      ]
    },
    {
      "cell_type": "code",
      "execution_count": null,
      "metadata": {
        "id": "0Sc_H46Hu-vv"
      },
      "outputs": [],
      "source": [
        "#calcolate lo score medio\n",
        "\n",
        "# create la nuova x con lo stesso numero di campioni del validation set originale, e con tutti i valori uguali al valore medio dello score appena calcolato\n",
        "\n",
        "\n",
        "#calcoliamo errori"
      ]
    },
    {
      "cell_type": "markdown",
      "metadata": {
        "id": "6Tjm6Ao0vYet"
      },
      "source": [
        "cosa pensate del modello imparato? traete le opportune conclusioni"
      ]
    },
    {
      "cell_type": "markdown",
      "metadata": {
        "id": "Uauc51Tt0cAt"
      },
      "source": [
        "# Parte 2. Regressione Logistica"
      ]
    },
    {
      "cell_type": "markdown",
      "metadata": {
        "id": "FTGrgQx2vsOx"
      },
      "source": [
        "Adesso, proviamo a risolvere un problema di classificazione, utilizzando la regressione logistica, come visto a lezione.\n",
        "\n",
        "\n",
        "Riuscite a trasformare il nostro problema di stimare imdb_score a partire dal tmdb_score, da regressione a classificazione?\n",
        "\n",
        "**tip** create una nuova colonna e provate a creare la caratteristica *above_average* che sia:\n",
        "\n",
        "- 1 Se imdb_score > mean(imdb_score);\n",
        "- 0 altrimenti.\n",
        "\n",
        "Usiamo il dataset integrate_titles come fatto in precedenza."
      ]
    },
    {
      "cell_type": "code",
      "execution_count": 25,
      "metadata": {
        "id": "usJ6ptdAwL4O"
      },
      "outputs": [
        {
          "name": "stdout",
          "output_type": "stream",
          "text": [
            "6.598869223205506\n"
          ]
        }
      ],
      "source": [
        "#creiamo la colonna integrate_titles['above_average']\n",
        "mean_value = titles['imdb_score'].mean()\n",
        "print(mean_value)\n",
        "titles['above_average']= (titles['imdb_score']>mean_value).astype(int)"
      ]
    },
    {
      "cell_type": "code",
      "execution_count": 26,
      "metadata": {
        "id": "GJ2cn3hvRO_4"
      },
      "outputs": [
        {
          "name": "stdout",
          "output_type": "stream",
          "text": [
            "1834\n"
          ]
        }
      ],
      "source": [
        "#definiamo il nuovo dataset (x,y) di conseguenza\n",
        "y = titles['above_average']\n",
        "X = titles[['tmdb_score']]\n",
        "print(np.sum(y==0))\n",
        "\n",
        "\n",
        "X_train, X_valid, y_train, y_valid = train_test_split(X, y,test_size=0.2)\n",
        "\n"
      ]
    },
    {
      "cell_type": "markdown",
      "metadata": {
        "id": "F4LtKiEOUUI5"
      },
      "source": [
        "Vediamo quanti elementi per classe"
      ]
    },
    {
      "cell_type": "code",
      "execution_count": 27,
      "metadata": {
        "id": "SnHwmgxrv6Sk"
      },
      "outputs": [
        {
          "name": "stdout",
          "output_type": "stream",
          "text": [
            "0.42874692874692877\n",
            "0.5712530712530712\n"
          ]
        }
      ],
      "source": [
        "classe0 = np.sum(y_valid==0)/X_valid.shape[0]\n",
        "classe1 = np.sum(y_valid==1)/X_valid.shape[0]\n",
        "print(classe0)\n",
        "print(classe1)"
      ]
    },
    {
      "cell_type": "markdown",
      "metadata": {
        "id": "GZtfiDj6wCor"
      },
      "source": [
        "Passi da eseguire (molto simile a quanto gia' fatto):\n",
        "\n",
        "1. Splittare dataset in training e test;\n",
        "2. Istanziare un oggetto della classe LogisticRegression;\n",
        "3. Fare fit su training set;\n",
        "4. Usare la funzione score che fornisce l'accuratezza intesa come numero di volte in cui abbiamo predetto correttamente la classe rispetto al totale."
      ]
    },
    {
      "cell_type": "code",
      "execution_count": 28,
      "metadata": {
        "id": "XLpLiPFSKivg"
      },
      "outputs": [
        {
          "ename": "NameError",
          "evalue": "name 'LogisticRegression' is not defined",
          "output_type": "error",
          "traceback": [
            "\u001b[31m---------------------------------------------------------------------------\u001b[39m",
            "\u001b[31mNameError\u001b[39m                                 Traceback (most recent call last)",
            "\u001b[36mCell\u001b[39m\u001b[36m \u001b[39m\u001b[32mIn[28]\u001b[39m\u001b[32m, line 1\u001b[39m\n\u001b[32m----> \u001b[39m\u001b[32m1\u001b[39m reg = \u001b[43mLogisticRegression\u001b[49m()\n\u001b[32m      2\u001b[39m reg.fit(X_train,y_train)\n",
            "\u001b[31mNameError\u001b[39m: name 'LogisticRegression' is not defined"
          ]
        }
      ],
      "source": [
        "reg = LogisticRegression()\n",
        "reg.fit(X_train,y_train)"
      ]
    },
    {
      "cell_type": "code",
      "execution_count": 32,
      "metadata": {
        "id": "MmCG5vRURO_5"
      },
      "outputs": [
        {
          "name": "stdout",
          "output_type": "stream",
          "text": [
            "0.757985257985258\n"
          ]
        }
      ],
      "source": [
        "from sklearn.linear_model import LogisticRegression\n",
        "\n",
        "# 1) Crea l'istanza del modello\n",
        "reg = LogisticRegression()\n",
        "\n",
        "# 2) Allena il modello (fit) sui tuoi dati di training\n",
        "reg.fit(X_train, y_train)\n",
        "\n",
        "# 3) Predici sui dati di validazione\n",
        "y_pred = reg.predict(X_valid)\n",
        "\n",
        "# 4) Calcola l'accuratezza (o un'altra metrica) sul set di validazione\n",
        "print(reg.score(X_valid, y_valid))\n"
      ]
    },
    {
      "cell_type": "markdown",
      "metadata": {
        "id": "NGdfF2zXLmMC"
      },
      "source": [
        "Benissimo, siamo riusciti a raggiungere un'accuratezza del 80% con un modello di logistic regression."
      ]
    },
    {
      "cell_type": "markdown",
      "metadata": {
        "id": "2Gnli05zwwJu"
      },
      "source": [
        "quale sarebbe un opportuno modello nullo per confrontare?\n",
        "\n",
        "possiamo immaginare di predire sempre la classe più comune. Verificate quale sia, e deducete score per il modello nullo."
      ]
    },
    {
      "cell_type": "code",
      "execution_count": 33,
      "metadata": {
        "id": "cSs89P1lw4n9"
      },
      "outputs": [
        {
          "name": "stdout",
          "output_type": "stream",
          "text": [
            "Null model accuracy (DummyClassifier): 0.5712530712530712\n"
          ]
        }
      ],
      "source": [
        "#codice qui per modello nullo\n",
        "from sklearn.dummy import DummyClassifier\n",
        "from sklearn.metrics import accuracy_score\n",
        "\n",
        "dummy = DummyClassifier(strategy=\"most_frequent\")\n",
        "dummy.fit(X_train, y_train)\n",
        "dummy_pred = dummy.predict(X_valid)\n",
        "\n",
        "null_accuracy = accuracy_score(y_valid, dummy_pred)\n",
        "print(\"Null model accuracy (DummyClassifier):\", null_accuracy)\n"
      ]
    },
    {
      "cell_type": "markdown",
      "metadata": {
        "id": "k0Eu_wxAxDMa"
      },
      "source": [
        "traete le vostre conclusioni."
      ]
    },
    {
      "cell_type": "markdown",
      "metadata": {
        "id": "8GJ8Fpl0LsNs"
      },
      "source": [
        "Compito per casa.\n",
        "\n",
        "Provate ad utilizzare il dataset di amazon come test, e ripetete tutto quanto visto per la tabella integrata di netflix e disney plus."
      ]
    },
    {
      "cell_type": "code",
      "execution_count": null,
      "metadata": {
        "id": "Yd5PBZaUxM_v"
      },
      "outputs": [],
      "source": [
        "#applichiamo il modello imparato"
      ]
    }
  ],
  "metadata": {
    "colab": {
      "provenance": []
    },
    "kernelspec": {
      "display_name": ".venv",
      "language": "python",
      "name": "python3"
    },
    "language_info": {
      "codemirror_mode": {
        "name": "ipython",
        "version": 3
      },
      "file_extension": ".py",
      "mimetype": "text/x-python",
      "name": "python",
      "nbconvert_exporter": "python",
      "pygments_lexer": "ipython3",
      "version": "3.13.2"
    }
  },
  "nbformat": 4,
  "nbformat_minor": 0
}
